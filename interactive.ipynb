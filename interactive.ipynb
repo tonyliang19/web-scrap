{
 "cells": [
  {
   "cell_type": "markdown",
   "id": "c661918a-36b8-4b1c-b31a-766dac53bdae",
   "metadata": {
    "tags": []
   },
   "source": [
    "# Table of contents\n",
    "\n",
    "- [Requests](#Requests)\n",
    "- [Multi Requests](#Multi-Requests)\n",
    "- [Multi Threading](#MultiThread)\n",
    "- [Asynchronus](#Asynchronus)"
   ]
  },
  {
   "cell_type": "markdown",
   "id": "fe069843-0770-4996-9713-49f9a025310c",
   "metadata": {
    "jp-MarkdownHeadingCollapsed": true,
    "tags": []
   },
   "source": [
    "### Global Variables"
   ]
  },
  {
   "cell_type": "code",
   "execution_count": 78,
   "id": "00c2a2b7-4707-4bff-93fc-913967b5f920",
   "metadata": {},
   "outputs": [],
   "source": [
    "# Variables for functions\n",
    "# Prefix for offset pages, where each offset contains 60 players\n",
    "BASE_URL = \"https://sofifa.com/?offset=\"\n",
    "# Prefix for each player's individual link\n",
    "P_URL = \"https://sofifa.com/\"\n",
    "# Number for offsets to reach (large to 20000 is good(\n",
    "N = 180\n",
    "# List to store all offset urls\n",
    "OFFSET_URLS = []\n",
    "# List to store all player urls\n",
    "PLAYERS_URLS = []\n",
    "# List to store bloom filter for check duplicate\n",
    "from bloom_filter import BloomFilter\n",
    "BLOOM = BloomFilter(max_elements=25000, error_rate=0.1)\n",
    "\n",
    "# Variables to store scraped data\n",
    "\n",
    "# Directories to store output files\n",
    "OUTDIR = \"data/raw\"\n",
    "FILENAME = \"fifa22_players\""
   ]
  },
  {
   "cell_type": "code",
   "execution_count": 79,
   "id": "1627a280-27f7-4239-b6c1-3fcafc57ebb7",
   "metadata": {},
   "outputs": [],
   "source": [
    "# Generate offset links\n",
    "for i in range(0, N, 60):\n",
    "    OFFSET_URLS.append(BASE_URL + str(i))\n",
    "\n",
    "\n",
    "def listing():\n",
    "    listing = []\n",
    "    ref = '//*[@id=\"body\"]/div[1]/div/div[2]/div/table/tbody/tr[i]/td[2]/a[1]/@href'\n",
    "    old = ref.split(sep=\"/\")[9]\n",
    "    for i in range(60):\n",
    "        new = f\"tr[{i+1}]\"\n",
    "        p = ref.replace(old, new)\n",
    "        listing.append(p)\n",
    "    return listing\n",
    "\n",
    "\n",
    "\n",
    "# Generate player links from offsets\n",
    "def parse_offset(url):\n",
    "    res = requests.get(url)\n",
    "    doc = lx.fromstring(res.content)\n",
    "    out = listing()\n",
    "    for path in out:\n",
    "        href = doc.xpath(path)[0]\n",
    "        # This checks the version (2 digits) of the player \n",
    "        ver = href.split(sep=\"/\")[4][0:2]\n",
    "        # If the player is from older version that isnt 22 then ignore\n",
    "        if ver != \"22\":\n",
    "            continue\n",
    "        p_url = P_URL + href\n",
    "        # Checks if this player if already contains in our bloom set to check duplicate\n",
    "        if BLOOM.__contains__(p_url):\n",
    "            # print(f\"This url is duplicated {p_url}\")\n",
    "            continue\n",
    "        PLAYERS_URLS.append(p_url)\n",
    "        BLOOM.add(p_url)\n"
   ]
  },
  {
   "cell_type": "markdown",
   "id": "ca571c4b-58de-4ccd-974c-0a78b2149d86",
   "metadata": {
    "jp-MarkdownHeadingCollapsed": true,
    "tags": []
   },
   "source": [
    "## Requests"
   ]
  },
  {
   "cell_type": "markdown",
   "id": "37e9000b-ad00-4e5c-8436-cd1e4a3fe548",
   "metadata": {
    "jp-MarkdownHeadingCollapsed": true,
    "tags": []
   },
   "source": [
    "### Imports"
   ]
  },
  {
   "cell_type": "code",
   "execution_count": 11,
   "id": "825f364d-2602-4817-b21e-bf7f402d0d94",
   "metadata": {},
   "outputs": [],
   "source": [
    "import requests\n",
    "from bs4 import BeautifulSoup\n",
    "import lxml.html as lx\n",
    "import time\n",
    "import pandas as pd"
   ]
  },
  {
   "cell_type": "markdown",
   "id": "d2e18f28-1326-4007-a2b5-b45dc88491a3",
   "metadata": {
    "tags": []
   },
   "source": [
    "### Functions"
   ]
  },
  {
   "cell_type": "markdown",
   "id": "78556b1a-a97a-4aea-bcdb-98df9024dea6",
   "metadata": {
    "jp-MarkdownHeadingCollapsed": true,
    "tags": []
   },
   "source": [
    "#### BS4"
   ]
  },
  {
   "cell_type": "code",
   "execution_count": 28,
   "id": "232de5d2-7bed-4e48-a2a2-74cb22e8cf33",
   "metadata": {},
   "outputs": [],
   "source": [
    "rbs4_players_scraped = []\n",
    "\n",
    "\n",
    "def get_page(url):\n",
    "    response = requests.get(url)\n",
    "    soup = BeautifulSoup(response.content, \"html.parser\")\n",
    "    return soup.find(\"tbody\", {\"class\": \"list\"})\n",
    "\n",
    "\n",
    "def get_players(trs):\n",
    "    out = []\n",
    "    for tr in trs:\n",
    "        try:\n",
    "            base = \"https://sofifa.com/\"\n",
    "            name = tr.select('td.col-name')\n",
    "            attr = \"?attr=classic\"\n",
    "            p_url = name[0].find(\"a\").get(\"href\")\n",
    "            a, b, c, d, v = p_url.split(\"/\", 4)\n",
    "            version = v[0:2]\n",
    "            if version != \"22\":\n",
    "                continue\n",
    "            link = base + p_url + attr\n",
    "            out.append(extract_info(tr, link))\n",
    "        except Exception as e:\n",
    "            # print(f\"error parsing link, check!\")\n",
    "            raise e\n",
    "    return out\n",
    "\n",
    "\n",
    "def extract_info(tr, link):\n",
    "    name = tr.select('td.col-name')\n",
    "    return {\n",
    "        \"name\": name[0].find(\"a\").get(\"aria-label\"),\n",
    "        \"country\": name[0].find(\"img\").get(\"title\"),\n",
    "        \"age\": tr.select('td.col.col-ae')[0].text.strip(),\n",
    "        \"overall\": tr.select('td.col.col-oa')[0].text.strip(),\n",
    "        \"potential\": tr.select('td.col.col-pt')[0].text.strip(),\n",
    "        \"club\": name[1].find(\"a\").text,\n",
    "        \"best_position\": name[0].find(\"span\").text,\n",
    "        \"value\": tr.select('td.col.col-vl')[0].text.strip(),\n",
    "        \"wage\": tr.select('td.col.col-wg')[0].text.strip(),\n",
    "        \"total_stats\": tr.select('td.col.col-tt')[0].text.strip(),\n",
    "    }\n",
    "\n",
    "\n",
    "def rbs4_scrap(urls):\n",
    "    for url in urls:\n",
    "        tbody = get_page(url)\n",
    "        trs = tbody.findAll(\"tr\")\n",
    "        rbs4_players_scraped.append(get_players(trs))"
   ]
  },
  {
   "cell_type": "markdown",
   "id": "fefd319b-5e8b-43de-9db6-e3db8b4d53ad",
   "metadata": {
    "jp-MarkdownHeadingCollapsed": true,
    "tags": []
   },
   "source": [
    "#### LXML"
   ]
  },
  {
   "cell_type": "code",
   "execution_count": 68,
   "id": "c59ded6a-e3c3-408d-afcb-9d84b7d79277",
   "metadata": {},
   "outputs": [],
   "source": [
    "rlxml_players_scraped = []\n",
    "\n",
    "\n",
    "def rlxml_scrap(urls):\n",
    "    for url in urls:\n",
    "        rlxml_players_scraped.append(parse_one(url))\n",
    "\n",
    "\n",
    "def parse_one(link):\n",
    "    res = requests.get(link)\n",
    "    tree = lx.fromstring(res.content)\n",
    "\n",
    "    # Basic information of the player div class col=col-12\n",
    "    basics = tree.xpath('//*[@id=\"body\"]/div[2]/div/div[2]')[0].getchildren()\n",
    "\n",
    "    # Bp3 card player, 1st child is info, 2nd child is card spacing\n",
    "    generic = basics[0].getchildren()[1:]\n",
    "\n",
    "    # List that contains full name, position, age, dob, height(cm), weight(kg)\n",
    "    information = generic[0].text_content().split(sep=\"\\n\")\n",
    "    # Dict to store generic infos\n",
    "    info_dict = parse_info(information)\n",
    "\n",
    "    # Profile section\n",
    "\n",
    "    # Use list comprehension to exlude empty strings created by splitting\n",
    "    # Exclude first element (which is title of the div component)\n",
    "    profile = [x for x in basics[1].text_content().split(sep=\"\\n\") if x][1:]\n",
    "\n",
    "    profile_dict = parse_profile(profile)\n",
    "\n",
    "    # Ratings section\n",
    "    lineup = tree.xpath('//*[@id=\"body\"]/div[2]/div/div[1]/div/div[1]/div')[0].getchildren()\n",
    "\n",
    "    ratings_dict = parse_ratings(lineup)\n",
    "\n",
    "    # Attributes section\n",
    "    all_blocks = tree.xpath('//div[@class=\"block-quarter\"]')[8:][:-1]\n",
    "    attributes_dict = parse_attributes(all_blocks)\n",
    "    return info_dict | profile_dict | ratings_dict | attributes_dict"
   ]
  },
  {
   "cell_type": "markdown",
   "id": "4fc961d2-7204-43a8-a2c7-3e8aaa3edc21",
   "metadata": {
    "jp-MarkdownHeadingCollapsed": true,
    "tags": []
   },
   "source": [
    "##### Parsers"
   ]
  },
  {
   "cell_type": "code",
   "execution_count": 8,
   "id": "1697767e-8973-49bc-98d0-f96bf496998f",
   "metadata": {},
   "outputs": [],
   "source": [
    "# Function to parse info\n",
    "def parse_info(par):\n",
    "    # Assigning processed variable\n",
    "    first_name = par[0].split(sep=\" \")[0]\n",
    "    last_name = par[0].split(sep=\" \")[-1]\n",
    "    # This refers to height and weight\n",
    "    measures = par[1].split(sep=\" \")[1:]\n",
    "\n",
    "    # Storing data\n",
    "    result_dict = {}\n",
    "    result_dict[\"full_name\"] = par[0]\n",
    "    result_dict[\"first_name\"] = first_name\n",
    "    result_dict[\"last_name\"] = last_name\n",
    "\n",
    "    # Helper function called to return height and weight\n",
    "    result_dict[\"height\"], result_dict[\"weight\"] = parse_hw(measures[-2:])\n",
    "    result_dict[\"age\"] = measures[-6][:2]\n",
    "    # These are players that play 3 positions\n",
    "    if len(measures) == 9:\n",
    "        # print(\"Plays 3 positions\")\n",
    "        result_dict[\"position\"] = \",\".join(measures[:3])\n",
    "    # These are players that play 2 positions\n",
    "    elif len(measures) == 8:\n",
    "        # print(\"Plays 2 positions\")\n",
    "        result_dict[\"position\"] = \",\".join(measures[:2])\n",
    "    # These are players that play 1 position only\n",
    "    else:\n",
    "        result_dict[\"position\"] = measures[0]\n",
    "    return result_dict\n",
    "\n",
    "\n",
    "# Function to parse profile\n",
    "def parse_profile(par):\n",
    "    p_dict = {}\n",
    "    for c in par:\n",
    "        if c[:9] in \"Preferred Foot\":\n",
    "            p_dict[c[:14]] = c[14:]\n",
    "        elif c[:9] in 'Work Rate':\n",
    "            p_dict[c[:9]] = c[9:].replace(\" \", \"\")\n",
    "        elif c[:4] in 'Body Type':\n",
    "            continue\n",
    "        else:\n",
    "            p_dict[c[3:]] = c[0]\n",
    "    return p_dict"
   ]
  },
  {
   "cell_type": "code",
   "execution_count": 9,
   "id": "0be20b98-8436-40ad-9712-214d04bb7af9",
   "metadata": {},
   "outputs": [],
   "source": [
    "# all_blocks = tree.xpath('//div[contains(@class, \"block-quarter\")]')\n",
    "# Returns all div elements that contains different stats for attributes\n",
    "# Last one is Special Traits(excluded) could be added later\n",
    "def parse_attributes(all_blocks):\n",
    "    stat_dict = {}\n",
    "    for block in all_blocks:\n",
    "        b = [x for x in block.text_content().split(sep=\"\\n\") if x][1:]\n",
    "        for stat in b:\n",
    "            if any([s in stat for s in [\"GK Diving\", \"GK Handling\", \"GK Kicking\"]]):\n",
    "                (attr, r) = stat[2:], stat[:2]\n",
    "                stat_dict[attr] = r\n",
    "            else:\n",
    "                (attr, r) = stat[3:], stat[:2]\n",
    "                stat_dict[attr] = r\n",
    "\n",
    "    return stat_dict"
   ]
  },
  {
   "cell_type": "code",
   "execution_count": 2,
   "id": "4c884eef-8915-4d17-b0bb-963004faf235",
   "metadata": {},
   "outputs": [],
   "source": [
    "def parse_hw(hw):\n",
    "    height = hw[0][:3]\n",
    "    weight = hw[1][:2]\n",
    "    return height, weight"
   ]
  },
  {
   "cell_type": "code",
   "execution_count": 1,
   "id": "997550f2-6a64-4d59-a3a8-b5e74ee86a0d",
   "metadata": {},
   "outputs": [],
   "source": [
    "# This is div class lineup\n",
    "def parse_ratings(lineup):\n",
    "    all_ratings = {}\n",
    "    # for each grid (represents 3 - 5 positions next to each other)\n",
    "    # Note some grid contains empty (\"\\xa0\"), will be skipeed\n",
    "    for grid in lineup:\n",
    "        # As mentioned each grid contains 3 - 5 ratings for positions\n",
    "        for rating in grid.getchildren():\n",
    "            # stored to variable to check duplicate\n",
    "            texts = rating.text_content()\n",
    "            if texts in \"\\xa0\":\n",
    "                continue\n",
    "            # Except last 4 are the position names (3 - 6 characters long)\n",
    "            # Last 4 are the ratings \n",
    "            (pos, oa) = texts[:-4], texts[-4:]\n",
    "            # Append each position and overall rating as key value pair\n",
    "            # and store it to the dictionary\n",
    "            all_ratings[pos] = oa\n",
    "    return all_ratings"
   ]
  },
  {
   "cell_type": "markdown",
   "id": "b4640bc2-749f-4568-a3e9-798ea249b565",
   "metadata": {
    "jp-MarkdownHeadingCollapsed": true,
    "tags": []
   },
   "source": [
    "#### Running"
   ]
  },
  {
   "cell_type": "markdown",
   "id": "5e303908-7413-4a81-9ba0-5c37aab015f8",
   "metadata": {
    "jp-MarkdownHeadingCollapsed": true,
    "tags": []
   },
   "source": [
    "##### bs4"
   ]
  },
  {
   "cell_type": "code",
   "execution_count": 30,
   "id": "9bcbcb45-c4ad-42c3-a386-27fdbb30bb5e",
   "metadata": {},
   "outputs": [
    {
     "name": "stdout",
     "output_type": "stream",
     "text": [
      "####################\n",
      "Time taken for normal requests plus BS4: 2.424346923828125\n"
     ]
    },
    {
     "data": {
      "text/html": [
       "<div>\n",
       "<style scoped>\n",
       "    .dataframe tbody tr th:only-of-type {\n",
       "        vertical-align: middle;\n",
       "    }\n",
       "\n",
       "    .dataframe tbody tr th {\n",
       "        vertical-align: top;\n",
       "    }\n",
       "\n",
       "    .dataframe thead th {\n",
       "        text-align: right;\n",
       "    }\n",
       "</style>\n",
       "<table border=\"1\" class=\"dataframe\">\n",
       "  <thead>\n",
       "    <tr style=\"text-align: right;\">\n",
       "      <th></th>\n",
       "      <th>name</th>\n",
       "      <th>country</th>\n",
       "      <th>age</th>\n",
       "      <th>overall</th>\n",
       "      <th>potential</th>\n",
       "      <th>club</th>\n",
       "      <th>best_position</th>\n",
       "      <th>value</th>\n",
       "      <th>wage</th>\n",
       "      <th>total_stats</th>\n",
       "    </tr>\n",
       "  </thead>\n",
       "  <tbody>\n",
       "    <tr>\n",
       "      <th>0</th>\n",
       "      <td>Vítor Machado Ferreira</td>\n",
       "      <td>Portugal</td>\n",
       "      <td>21</td>\n",
       "      <td>78</td>\n",
       "      <td>88</td>\n",
       "      <td>FC Porto</td>\n",
       "      <td>CM</td>\n",
       "      <td>€31.5M</td>\n",
       "      <td>€12K</td>\n",
       "      <td>1999</td>\n",
       "    </tr>\n",
       "    <tr>\n",
       "      <th>1</th>\n",
       "      <td>Alen Halilović</td>\n",
       "      <td>Croatia</td>\n",
       "      <td>25</td>\n",
       "      <td>69</td>\n",
       "      <td>72</td>\n",
       "      <td>Reading</td>\n",
       "      <td>RM</td>\n",
       "      <td>€1.8M</td>\n",
       "      <td>€13K</td>\n",
       "      <td>1728</td>\n",
       "    </tr>\n",
       "    <tr>\n",
       "      <th>2</th>\n",
       "      <td>Isaak Touré</td>\n",
       "      <td>France</td>\n",
       "      <td>18</td>\n",
       "      <td>63</td>\n",
       "      <td>79</td>\n",
       "      <td>Le Havre AC</td>\n",
       "      <td>CB</td>\n",
       "      <td>€1.1M</td>\n",
       "      <td>€550</td>\n",
       "      <td>1438</td>\n",
       "    </tr>\n",
       "    <tr>\n",
       "      <th>3</th>\n",
       "      <td>Noa Lang</td>\n",
       "      <td>Netherlands</td>\n",
       "      <td>22</td>\n",
       "      <td>78</td>\n",
       "      <td>85</td>\n",
       "      <td>Club Brugge KV</td>\n",
       "      <td>LW</td>\n",
       "      <td>€28.5M</td>\n",
       "      <td>€27K</td>\n",
       "      <td>2012</td>\n",
       "    </tr>\n",
       "    <tr>\n",
       "      <th>4</th>\n",
       "      <td>Chidera Ejuke</td>\n",
       "      <td>Nigeria</td>\n",
       "      <td>23</td>\n",
       "      <td>76</td>\n",
       "      <td>81</td>\n",
       "      <td>PFC CSKA Moscow</td>\n",
       "      <td>LM</td>\n",
       "      <td>€11.5M</td>\n",
       "      <td>€35K</td>\n",
       "      <td>1905</td>\n",
       "    </tr>\n",
       "  </tbody>\n",
       "</table>\n",
       "</div>"
      ],
      "text/plain": [
       "                     name      country age overall potential             club  \\\n",
       "0  Vítor Machado Ferreira     Portugal  21      78        88         FC Porto   \n",
       "1          Alen Halilović      Croatia  25      69        72          Reading   \n",
       "2             Isaak Touré       France  18      63        79      Le Havre AC   \n",
       "3                Noa Lang  Netherlands  22      78        85   Club Brugge KV   \n",
       "4           Chidera Ejuke      Nigeria  23      76        81  PFC CSKA Moscow   \n",
       "\n",
       "  best_position   value  wage total_stats  \n",
       "0            CM  €31.5M  €12K        1999  \n",
       "1            RM   €1.8M  €13K        1728  \n",
       "2            CB   €1.1M  €550        1438  \n",
       "3            LW  €28.5M  €27K        2012  \n",
       "4            LM  €11.5M  €35K        1905  "
      ]
     },
     "execution_count": 30,
     "metadata": {},
     "output_type": "execute_result"
    }
   ],
   "source": [
    "# BS4\n",
    "print(\"#\" * 20)\n",
    "# Starts timer\n",
    "t1 = time.time()\n",
    "rbs4_scrap(OFFSET_URLS)\n",
    "df_rbs4 = pd.DataFrame(rbs4_players_scraped[0])\n",
    "print(f\"Time taken for normal requests plus BS4: {time.time() - t1}\")\n",
    "df_rbs4.head()"
   ]
  },
  {
   "cell_type": "markdown",
   "id": "27d39483-2679-4c8d-b59c-e2f29e2effde",
   "metadata": {
    "jp-MarkdownHeadingCollapsed": true,
    "tags": []
   },
   "source": [
    "##### lxml"
   ]
  },
  {
   "cell_type": "code",
   "execution_count": 80,
   "id": "0d539b3d-a4c4-4235-b804-6874f36bd7f6",
   "metadata": {},
   "outputs": [
    {
     "name": "stdout",
     "output_type": "stream",
     "text": [
      "####################\n",
      "Time taken for normal requests plus lxml: 107.69247579574585\n"
     ]
    },
    {
     "data": {
      "text/html": [
       "<div>\n",
       "<style scoped>\n",
       "    .dataframe tbody tr th:only-of-type {\n",
       "        vertical-align: middle;\n",
       "    }\n",
       "\n",
       "    .dataframe tbody tr th {\n",
       "        vertical-align: top;\n",
       "    }\n",
       "\n",
       "    .dataframe thead th {\n",
       "        text-align: right;\n",
       "    }\n",
       "</style>\n",
       "<table border=\"1\" class=\"dataframe\">\n",
       "  <thead>\n",
       "    <tr style=\"text-align: right;\">\n",
       "      <th></th>\n",
       "      <th>full_name</th>\n",
       "      <th>first_name</th>\n",
       "      <th>last_name</th>\n",
       "      <th>height</th>\n",
       "      <th>weight</th>\n",
       "      <th>age</th>\n",
       "      <th>position</th>\n",
       "      <th>Preferred Foot</th>\n",
       "      <th>Weak Foot</th>\n",
       "      <th>Skill Moves</th>\n",
       "      <th>...</th>\n",
       "      <th>ong Shots</th>\n",
       "      <th>ositioning</th>\n",
       "      <th>inishing</th>\n",
       "      <th>olleys</th>\n",
       "      <th>ribbling</th>\n",
       "      <th>nterceptions</th>\n",
       "      <th>LAM8</th>\n",
       "      <th>CAM8</th>\n",
       "      <th>RAM8</th>\n",
       "      <th>K Accuracy</th>\n",
       "    </tr>\n",
       "  </thead>\n",
       "  <tbody>\n",
       "    <tr>\n",
       "      <th>0</th>\n",
       "      <td>Vítor Machado Ferreira</td>\n",
       "      <td>Vítor</td>\n",
       "      <td>Ferreira</td>\n",
       "      <td>173</td>\n",
       "      <td>64</td>\n",
       "      <td>21</td>\n",
       "      <td>CM,CAM</td>\n",
       "      <td>Right</td>\n",
       "      <td>3</td>\n",
       "      <td>3</td>\n",
       "      <td>...</td>\n",
       "      <td>NaN</td>\n",
       "      <td>NaN</td>\n",
       "      <td>NaN</td>\n",
       "      <td>NaN</td>\n",
       "      <td>NaN</td>\n",
       "      <td>NaN</td>\n",
       "      <td>NaN</td>\n",
       "      <td>NaN</td>\n",
       "      <td>NaN</td>\n",
       "      <td>NaN</td>\n",
       "    </tr>\n",
       "    <tr>\n",
       "      <th>1</th>\n",
       "      <td>Alen HaliloviÄ</td>\n",
       "      <td>Alen</td>\n",
       "      <td>HaliloviÄ</td>\n",
       "      <td>169</td>\n",
       "      <td>69</td>\n",
       "      <td>25</td>\n",
       "      <td>RM,CAM</td>\n",
       "      <td>Left</td>\n",
       "      <td>2</td>\n",
       "      <td>4</td>\n",
       "      <td>...</td>\n",
       "      <td>NaN</td>\n",
       "      <td>NaN</td>\n",
       "      <td>NaN</td>\n",
       "      <td>NaN</td>\n",
       "      <td>NaN</td>\n",
       "      <td>NaN</td>\n",
       "      <td>NaN</td>\n",
       "      <td>NaN</td>\n",
       "      <td>NaN</td>\n",
       "      <td>NaN</td>\n",
       "    </tr>\n",
       "    <tr>\n",
       "      <th>2</th>\n",
       "      <td>Souleymane Isaak TourÃ©</td>\n",
       "      <td>Souleymane</td>\n",
       "      <td>TourÃ©</td>\n",
       "      <td>204</td>\n",
       "      <td>10</td>\n",
       "      <td>18</td>\n",
       "      <td>CB</td>\n",
       "      <td>Left</td>\n",
       "      <td>3</td>\n",
       "      <td>2</td>\n",
       "      <td>...</td>\n",
       "      <td>NaN</td>\n",
       "      <td>NaN</td>\n",
       "      <td>NaN</td>\n",
       "      <td>NaN</td>\n",
       "      <td>NaN</td>\n",
       "      <td>NaN</td>\n",
       "      <td>NaN</td>\n",
       "      <td>NaN</td>\n",
       "      <td>NaN</td>\n",
       "      <td>NaN</td>\n",
       "    </tr>\n",
       "    <tr>\n",
       "      <th>3</th>\n",
       "      <td>Noa Noëll Lang</td>\n",
       "      <td>Noa</td>\n",
       "      <td>Lang</td>\n",
       "      <td>179</td>\n",
       "      <td>69</td>\n",
       "      <td>22</td>\n",
       "      <td>LW,RW,ST</td>\n",
       "      <td>Right</td>\n",
       "      <td>3</td>\n",
       "      <td>4</td>\n",
       "      <td>...</td>\n",
       "      <td>NaN</td>\n",
       "      <td>NaN</td>\n",
       "      <td>NaN</td>\n",
       "      <td>NaN</td>\n",
       "      <td>NaN</td>\n",
       "      <td>NaN</td>\n",
       "      <td>NaN</td>\n",
       "      <td>NaN</td>\n",
       "      <td>NaN</td>\n",
       "      <td>NaN</td>\n",
       "    </tr>\n",
       "    <tr>\n",
       "      <th>4</th>\n",
       "      <td>Chidera Ejuke</td>\n",
       "      <td>Chidera</td>\n",
       "      <td>Ejuke</td>\n",
       "      <td>174</td>\n",
       "      <td>72</td>\n",
       "      <td>23</td>\n",
       "      <td>LM,RM</td>\n",
       "      <td>Right</td>\n",
       "      <td>3</td>\n",
       "      <td>4</td>\n",
       "      <td>...</td>\n",
       "      <td>NaN</td>\n",
       "      <td>NaN</td>\n",
       "      <td>NaN</td>\n",
       "      <td>NaN</td>\n",
       "      <td>NaN</td>\n",
       "      <td>NaN</td>\n",
       "      <td>NaN</td>\n",
       "      <td>NaN</td>\n",
       "      <td>NaN</td>\n",
       "      <td>NaN</td>\n",
       "    </tr>\n",
       "  </tbody>\n",
       "</table>\n",
       "<p>5 rows × 99 columns</p>\n",
       "</div>"
      ],
      "text/plain": [
       "                 full_name  first_name   last_name height weight age  \\\n",
       "0   Vítor Machado Ferreira       Vítor    Ferreira    173     64  21   \n",
       "1          Alen HaliloviÄ        Alen  HaliloviÄ    169     69  25   \n",
       "2  Souleymane Isaak TourÃ©  Souleymane      TourÃ©    204     10  18   \n",
       "3           Noa Noëll Lang         Noa        Lang    179     69  22   \n",
       "4            Chidera Ejuke     Chidera       Ejuke    174     72  23   \n",
       "\n",
       "   position Preferred Foot Weak Foot Skill Moves  ... ong Shots ositioning  \\\n",
       "0    CM,CAM          Right         3           3  ...       NaN        NaN   \n",
       "1    RM,CAM           Left         2           4  ...       NaN        NaN   \n",
       "2        CB           Left         3           2  ...       NaN        NaN   \n",
       "3  LW,RW,ST          Right         3           4  ...       NaN        NaN   \n",
       "4     LM,RM          Right         3           4  ...       NaN        NaN   \n",
       "\n",
       "  inishing olleys ribbling nterceptions LAM8 CAM8 RAM8 K Accuracy  \n",
       "0      NaN    NaN      NaN          NaN  NaN  NaN  NaN        NaN  \n",
       "1      NaN    NaN      NaN          NaN  NaN  NaN  NaN        NaN  \n",
       "2      NaN    NaN      NaN          NaN  NaN  NaN  NaN        NaN  \n",
       "3      NaN    NaN      NaN          NaN  NaN  NaN  NaN        NaN  \n",
       "4      NaN    NaN      NaN          NaN  NaN  NaN  NaN        NaN  \n",
       "\n",
       "[5 rows x 99 columns]"
      ]
     },
     "execution_count": 80,
     "metadata": {},
     "output_type": "execute_result"
    }
   ],
   "source": [
    "# lxml\n",
    "print(\"#\" * 20)\n",
    "# Starts timer\n",
    "t2 = time.time()\n",
    "for url in OFFSET_URLS:\n",
    "    parse_offset(url)\n",
    "rlxml_scrap(PLAYERS_URLS)\n",
    "df_rlxml = pd.DataFrame(rlxml_players_scraped)\n",
    "print(f\"Time taken for normal requests plus lxml: {time.time() - t2}\")\n",
    "df_rlxml.head()"
   ]
  },
  {
   "cell_type": "code",
   "execution_count": null,
   "id": "37b3d042-8183-48bd-9dfe-241a3a02a3ba",
   "metadata": {},
   "outputs": [],
   "source": []
  },
  {
   "cell_type": "markdown",
   "id": "7901069c-a646-4ab4-a687-5d5e213a8d0c",
   "metadata": {
    "jp-MarkdownHeadingCollapsed": true,
    "tags": []
   },
   "source": [
    "## Multi-Requests"
   ]
  },
  {
   "cell_type": "code",
   "execution_count": null,
   "id": "60cd7052-92a1-4305-9604-45967ba8b13d",
   "metadata": {},
   "outputs": [],
   "source": []
  },
  {
   "cell_type": "markdown",
   "id": "b1f60f1f-52f3-4309-af90-6dbe00da1eb1",
   "metadata": {
    "jp-MarkdownHeadingCollapsed": true,
    "tags": []
   },
   "source": [
    "## MultiThread"
   ]
  },
  {
   "cell_type": "code",
   "execution_count": null,
   "id": "d97b6606-8102-4e4e-88e7-d9266b29bbe6",
   "metadata": {},
   "outputs": [],
   "source": []
  },
  {
   "cell_type": "markdown",
   "id": "d55c6fdc-a0f8-438d-a524-82bae545bcce",
   "metadata": {
    "jp-MarkdownHeadingCollapsed": true,
    "tags": []
   },
   "source": [
    "## Asynchronus"
   ]
  },
  {
   "cell_type": "code",
   "execution_count": null,
   "id": "5d2c673d-375c-48fe-a856-0d4718a49444",
   "metadata": {},
   "outputs": [],
   "source": []
  },
  {
   "cell_type": "markdown",
   "id": "6d16f0db-94de-48b0-a9a5-07ccd9bf08e9",
   "metadata": {
    "jp-MarkdownHeadingCollapsed": true,
    "tags": []
   },
   "source": [
    "## Others"
   ]
  }
 ],
 "metadata": {
  "kernelspec": {
   "display_name": "Python [conda env:fifa22]",
   "language": "python",
   "name": "conda-env-fifa22-py"
  },
  "language_info": {
   "codemirror_mode": {
    "name": "ipython",
    "version": 3
   },
   "file_extension": ".py",
   "mimetype": "text/x-python",
   "name": "python",
   "nbconvert_exporter": "python",
   "pygments_lexer": "ipython3",
   "version": "3.10.4"
  }
 },
 "nbformat": 4,
 "nbformat_minor": 5
}
